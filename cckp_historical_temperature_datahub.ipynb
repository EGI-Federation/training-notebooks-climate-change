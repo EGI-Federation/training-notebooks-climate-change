{
 "cells": [
  {
   "cell_type": "markdown",
   "metadata": {},
   "source": [
    "# Analyse historical data from the Climate Change Knowledge Portal \n",
    "\n",
    "Author: [Giuseppe La Rocca](mailto:giuseppe.larocca@egi.eu)\n",
    "\n",
    "Creation date: 03-Sept-2019\n",
    "\n",
    "Last updated: 04-Sept-2019\n",
    "\n",
    "---\n",
    "\n",
    "## Description: \n",
    "\n",
    "Calculate the historical precipitation data derived from the Climate Research Unit (Mitchell et at, 2003) aggregated to country and basin levels. Data is obtained from the [World Data Catalogue](https://datacatalog.worldbank.org/dataset/climate-change-knowledge-portal-historical-data) and made available in the EGI DataHub with PID http://hdl.handle.net/21.T15999/3Byz9Cw\n",
    "\n",
    "The \"Climate Chnage Knowledge Portal: Historical Data\" spreadsheet contains the following tabs:\n",
    "\n",
    "* <u>Country_temperatureCRU</u>: mean monthly and annual temperatures by country for the period 1961-1999.  Values are in degrees Celsius.\n",
    "* <u>Country_precipitationCRU</u>: mean monthly and annual precipitation by country for the period 1961-1999.  Values are in millimeters (mm).\n",
    "\n",
    "For this exercise the dataset in the <u>Country_temperatureCRU</u> tab will be used.\n"
   ]
  },
  {
   "cell_type": "markdown",
   "metadata": {},
   "source": [
    "## Import necessary libraries"
   ]
  },
  {
   "cell_type": "code",
   "execution_count": null,
   "metadata": {},
   "outputs": [],
   "source": [
    "import pandas as pd\n",
    "from pandas import DataFrame\n",
    "import matplotlib.pyplot as plt\n",
    "\n",
    "\n",
    "# datahub and auxiliary libraries\n",
    "import os\n",
    "import requests\n",
    "from fs.onedatafs import OnedataFS"
   ]
  },
  {
   "cell_type": "markdown",
   "metadata": {},
   "source": [
    "## Resolve PID to DataHub files"
   ]
  },
  {
   "cell_type": "code",
   "execution_count": null,
   "metadata": {},
   "outputs": [],
   "source": [
    "# First get DataHub share from handle\n",
    "PID = 'http://hdl.handle.net/21.T15999/3Byz9Cw'\n",
    "\n",
    "r = requests.get(PID, allow_redirects=False)\n",
    "share = os.path.basename(r.headers['Location'])\n",
    "\n",
    "# And now get the path of the file in onedata\n",
    "# From the share info\n",
    "r = requests.get('https://datahub.egi.eu/api/v3/onezone/shares/%s' % share,\n",
    "                 headers={'X-auth-token': os.environ['ONECLIENT_ACCESS_TOKEN'],\n",
    "                          'Accept': 'application/json'})\n",
    "space_id = r.json()['spaceId']\n",
    "folder_name = r.json()['name']\n",
    "# And the space info\n",
    "r = requests.get('https://%s/api/v3/oneprovider/spaces/%s' % (os.environ['ONEPROVIDER_HOST'], space_id),\n",
    "                 headers={'X-Auth-Token': os.environ['ONECLIENT_ACCESS_TOKEN']})\n",
    "space_name = r.json()['name']\n",
    "datahub_path = os.path.join('/', space_name, folder_name)\n",
    "\n",
    "print(\"Data is available at %s\" % datahub_path)"
   ]
  },
  {
   "cell_type": "markdown",
   "metadata": {},
   "source": [
    "### Provide the ISO_3DIGIT of the country you are interested to analyse"
   ]
  },
  {
   "cell_type": "code",
   "execution_count": null,
   "metadata": {},
   "outputs": [],
   "source": [
    "ISO_3DIGIT=\"ITA\""
   ]
  },
  {
   "cell_type": "markdown",
   "metadata": {},
   "source": [
    "## Load historical datasets from local and create a DataFrame object"
   ]
  },
  {
   "cell_type": "code",
   "execution_count": null,
   "metadata": {},
   "outputs": [],
   "source": [
    "file_name = os.path.join(datahub_path, 'cckp_historical_data_0.xls')\n",
    "\n",
    "# Create connection to Oneprovider\n",
    "odfs = OnedataFS(os.environ['ONEPROVIDER_HOST'],\n",
    "                 os.environ['ONECLIENT_ACCESS_TOKEN'],\n",
    "                 force_direct_io=True)\n",
    "\n",
    "raw_data = pd.read_excel(odfs.open(file_name, 'rb'), sheet_name='Country_temperatureCRU')"
   ]
  },
  {
   "cell_type": "markdown",
   "metadata": {},
   "source": [
    "### Show keys() and datasets"
   ]
  },
  {
   "cell_type": "code",
   "execution_count": null,
   "metadata": {},
   "outputs": [],
   "source": [
    "# Show available keys()\n",
    "raw_data.keys()"
   ]
  },
  {
   "cell_type": "code",
   "execution_count": null,
   "metadata": {},
   "outputs": [],
   "source": [
    "raw_data[:10]"
   ]
  },
  {
   "cell_type": "markdown",
   "metadata": {},
   "source": [
    "### Group datasets based on the \"ISO_3DIGIT\" code and check data structure"
   ]
  },
  {
   "cell_type": "code",
   "execution_count": null,
   "metadata": {},
   "outputs": [],
   "source": [
    "average_annual_temperature = raw_data.groupby(['ISO_3DIGIT'])\n",
    "#average_annual_temperature.describe()"
   ]
  },
  {
   "cell_type": "code",
   "execution_count": null,
   "metadata": {},
   "outputs": [],
   "source": [
    "# Filter datasets by ISO_3DIGIT\n",
    "iso_3digit_average_annual_temperature = average_annual_temperature.get_group(ISO_3DIGIT)\n",
    "iso_3digit_average_annual_temperature"
   ]
  },
  {
   "cell_type": "markdown",
   "metadata": {},
   "source": [
    "### Create the DataFrame to plot"
   ]
  },
  {
   "cell_type": "code",
   "execution_count": null,
   "metadata": {},
   "outputs": [],
   "source": [
    "Data = {\n",
    "    'Mean monthly and annual temperature for period 1961-1999': [\n",
    "          'Jan','Feb','Mar','Apr','May','Jun','Jul','Aug','Sept','Oct','Nov','Dec'\n",
    "    ],\n",
    "    \n",
    "    'Temperatures': [\n",
    "          iso_3digit_average_annual_temperature['Jan_Temp'].values[0],\n",
    "          iso_3digit_average_annual_temperature['Feb_temp'].values[0],\n",
    "          iso_3digit_average_annual_temperature['Mar_temp'].values[0],\n",
    "          iso_3digit_average_annual_temperature['Apr_Temp'].values[0],\n",
    "          iso_3digit_average_annual_temperature['May_temp'].values[0],\n",
    "          iso_3digit_average_annual_temperature['Jun_Temp'].values[0],\n",
    "          iso_3digit_average_annual_temperature['July_Temp'].values[0],\n",
    "          iso_3digit_average_annual_temperature['Aug_Temp'].values[0],\n",
    "          iso_3digit_average_annual_temperature['Sept_temp'].values[0],\n",
    "          iso_3digit_average_annual_temperature['Oct_temp'].values[0],\n",
    "          iso_3digit_average_annual_temperature['Nov_Temp'].values[0],\n",
    "          iso_3digit_average_annual_temperature['Dec_temp'].values[0]\n",
    "    ]\n",
    "}\n",
    "\n",
    "data_frame=DataFrame(Data, columns=['Mean monthly and annual temperature for period 1961-1999', 'Temperatures'])\n",
    "data_frame"
   ]
  },
  {
   "cell_type": "markdown",
   "metadata": {},
   "source": [
    "### Plot the DataFrame "
   ]
  },
  {
   "cell_type": "code",
   "execution_count": null,
   "metadata": {},
   "outputs": [],
   "source": [
    "data_frame.plot(\n",
    "    x='Mean monthly and annual temperature for period 1961-1999', \n",
    "    y='Temperatures',\n",
    "    color='lightblue', \n",
    "    figsize=(10,5),\n",
    "    linewidth='3')\n",
    "\n",
    "# Add legend, grid and show the plot\n",
    "plt.grid()\n",
    "plt.legend()\n",
    "\n",
    "# Saving the final plot\n",
    "plt.savefig(\"temperatures.png\")"
   ]
  },
  {
   "cell_type": "code",
   "execution_count": null,
   "metadata": {},
   "outputs": [],
   "source": []
  }
 ],
 "metadata": {
  "kernelspec": {
   "display_name": "Python 3",
   "language": "python",
   "name": "python3"
  },
  "language_info": {
   "codemirror_mode": {
    "name": "ipython",
    "version": 3
   },
   "file_extension": ".py",
   "mimetype": "text/x-python",
   "name": "python",
   "nbconvert_exporter": "python",
   "pygments_lexer": "ipython3",
   "version": "3.7.3"
  }
 },
 "nbformat": 4,
 "nbformat_minor": 2
}
